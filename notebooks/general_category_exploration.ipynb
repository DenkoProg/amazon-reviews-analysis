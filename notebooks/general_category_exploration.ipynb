{
 "cells": [
  {
   "cell_type": "markdown",
   "id": "fad33702",
   "metadata": {},
   "source": [
    "# Amazon Reviews 2023 - Category EDA\n",
    "\n",
    "Reusable exploratory data analysis for any category. Update `CATEGORY_NAME` variable.\n",
    "\n",
    "Analyzes: schema, data quality (nulls, duplicates, outliers), statistics, distributions.\n"
   ]
  },
  {
   "cell_type": "markdown",
   "id": "6469e63e",
   "metadata": {},
   "source": [
    "## 1. Import Libraries\n"
   ]
  },
  {
   "cell_type": "code",
   "execution_count": 1,
   "id": "fb245c15",
   "metadata": {},
   "outputs": [],
   "source": [
    "import os\n",
    "from pathlib import Path\n",
    "import warnings\n",
    "\n",
    "import rootutils\n",
    "\n",
    "\n",
    "rootutils.setup_root(Path.cwd(), indicator=\".project-root\", pythonpath=True)\n",
    "\n",
    "ROOT_DIR = Path(os.environ.get(\"PROJECT_ROOT\", Path.cwd()))\n",
    "\n",
    "REVIEWS_PATH = ROOT_DIR / \"data/raw/review_categories/Musical_Instruments.jsonl\"\n",
    "METADATA_PATH = ROOT_DIR / \"data/raw/meta_categories/meta_Musical_Instruments.jsonl\"\n",
    "\n",
    "warnings.filterwarnings(\"ignore\")"
   ]
  },
  {
   "cell_type": "markdown",
   "id": "34c18f38",
   "metadata": {},
   "source": [
    "## Initialize Spark\n"
   ]
  },
  {
   "cell_type": "code",
   "execution_count": 2,
   "id": "ebc7e538",
   "metadata": {},
   "outputs": [
    {
     "name": "stderr",
     "output_type": "stream",
     "text": [
      "WARNING: Using incubator modules: jdk.incubator.vector\n",
      "Using Spark's default log4j profile: org/apache/spark/log4j2-defaults.properties\n",
      "Setting default log level to \"WARN\".\n",
      "To adjust logging level use sc.setLogLevel(newLevel). For SparkR, use setLogLevel(newLevel).\n",
      "25/11/01 18:11:29 WARN NativeCodeLoader: Unable to load native-hadoop library for your platform... using builtin-java classes where applicable\n",
      "25/11/01 18:11:30 WARN Utils: Service 'SparkUI' could not bind on port 4040. Attempting port 4041.\n"
     ]
    },
    {
     "name": "stdout",
     "output_type": "stream",
     "text": [
      "✓ Spark Session created successfully!\n",
      "Spark Version: 4.0.1\n",
      "Spark App Name: AmazonReviews\n",
      "Spark Master: local[*]\n",
      "Spark UI: http://IdeaPad-Pro-5-14AHP9:4041\n"
     ]
    }
   ],
   "source": [
    "from amazon_reviews_analysis.utils import build_spark\n",
    "\n",
    "\n",
    "spark = build_spark()\n",
    "\n",
    "print(\"✓ Spark Session created successfully!\")\n",
    "print(f\"Spark Version: {spark.version}\")\n",
    "print(f\"Spark App Name: {spark.sparkContext.appName}\")\n",
    "print(f\"Spark Master: {spark.sparkContext.master}\")\n",
    "print(f\"Spark UI: {spark.sparkContext.uiWebUrl}\")"
   ]
  },
  {
   "cell_type": "markdown",
   "id": "429263dd",
   "metadata": {},
   "source": [
    "---\n",
    "\n",
    "# PART A: METADATA\n",
    "\n",
    "## Load Metadata\n"
   ]
  },
  {
   "cell_type": "code",
   "execution_count": 3,
   "id": "da341bae",
   "metadata": {},
   "outputs": [
    {
     "name": "stdout",
     "output_type": "stream",
     "text": [
      "📂 Metadata: /home/max/projects/nulp/amazon-reviews-analysis/data/raw/meta_categories/meta_Musical_Instruments.jsonl\n"
     ]
    },
    {
     "name": "stderr",
     "output_type": "stream",
     "text": [
      "[Stage 0:>                                                        (0 + 16) / 16]\r"
     ]
    },
    {
     "name": "stdout",
     "output_type": "stream",
     "text": [
      "Total records: 213,593\n"
     ]
    },
    {
     "name": "stderr",
     "output_type": "stream",
     "text": [
      "                                                                                \r"
     ]
    }
   ],
   "source": [
    "from amazon_reviews_analysis.utils import load_metadata\n",
    "\n",
    "\n",
    "print(f\"📂 Metadata: {METADATA_PATH}\")\n",
    "\n",
    "metadata_df = load_metadata(spark, METADATA_PATH)\n",
    "print(f\"Total records: {metadata_df.count():,}\")"
   ]
  },
  {
   "cell_type": "markdown",
   "id": "01d84d0f",
   "metadata": {},
   "source": [
    "## Schema & Structure\n"
   ]
  },
  {
   "cell_type": "code",
   "execution_count": 4,
   "id": "d2711480",
   "metadata": {},
   "outputs": [
    {
     "name": "stdout",
     "output_type": "stream",
     "text": [
      "SCHEMA\n",
      "================================================================================\n",
      "root\n",
      " |-- author: struct (nullable = true)\n",
      " |    |-- about: array (nullable = true)\n",
      " |    |    |-- element: string (containsNull = true)\n",
      " |    |-- avatar: string (nullable = true)\n",
      " |    |-- name: string (nullable = true)\n",
      " |-- average_rating: double (nullable = true)\n",
      " |-- bought_together: string (nullable = true)\n",
      " |-- categories: array (nullable = true)\n",
      " |    |-- element: string (containsNull = true)\n",
      " |-- description: array (nullable = true)\n",
      " |    |-- element: string (containsNull = true)\n",
      " |-- details: map (nullable = true)\n",
      " |    |-- key: string\n",
      " |    |-- value: string (valueContainsNull = true)\n",
      " |-- features: array (nullable = true)\n",
      " |    |-- element: string (containsNull = true)\n",
      " |-- images: array (nullable = true)\n",
      " |    |-- element: struct (containsNull = true)\n",
      " |    |    |-- hi_res: string (nullable = true)\n",
      " |    |    |-- large: string (nullable = true)\n",
      " |    |    |-- thumb: string (nullable = true)\n",
      " |    |    |-- variant: string (nullable = true)\n",
      " |-- main_category: string (nullable = true)\n",
      " |-- parent_asin: string (nullable = true)\n",
      " |-- price: string (nullable = true)\n",
      " |-- rating_number: long (nullable = true)\n",
      " |-- store: string (nullable = true)\n",
      " |-- subtitle: string (nullable = true)\n",
      " |-- title: string (nullable = true)\n",
      " |-- videos: array (nullable = true)\n",
      " |    |-- element: struct (containsNull = true)\n",
      " |    |    |-- title: string (nullable = true)\n",
      " |    |    |-- url: string (nullable = true)\n",
      " |    |    |-- user_id: string (nullable = true)\n",
      "\n",
      "\n",
      "Columns: 16\n",
      " 1. author\n",
      " 2. average_rating\n",
      " 3. bought_together\n",
      " 4. categories\n",
      " 5. description\n",
      " 6. details\n",
      " 7. features\n",
      " 8. images\n",
      " 9. main_category\n",
      "10. parent_asin\n",
      "11. price\n",
      "12. rating_number\n",
      "13. store\n",
      "14. subtitle\n",
      "15. title\n",
      "16. videos\n"
     ]
    }
   ],
   "source": [
    "print(\"SCHEMA\")\n",
    "print(\"=\" * 80)\n",
    "metadata_df.printSchema()\n",
    "\n",
    "print(f\"\\nColumns: {len(metadata_df.columns)}\")\n",
    "for idx, col_name in enumerate(metadata_df.columns, 1):\n",
    "    print(f\"{idx:2d}. {col_name}\")\n"
   ]
  },
  {
   "cell_type": "markdown",
   "id": "b62f83f2",
   "metadata": {},
   "source": [
    "## Sample Data\n"
   ]
  },
  {
   "cell_type": "code",
   "execution_count": 5,
   "id": "d69020e9",
   "metadata": {},
   "outputs": [
    {
     "name": "stdout",
     "output_type": "stream",
     "text": [
      "+------+--------------+---------------+--------------------------------------------------+--------------------------------------------------+--------------------------------------------------+--------------------------------------------------+--------------------------------------------------+-------------------+-----------+-----+-------------+---------+--------+--------------------------------------------------+--------------------------------------------------+\n",
      "|author|average_rating|bought_together|                                        categories|                                       description|                                           details|                                          features|                                            images|      main_category|parent_asin|price|rating_number|    store|subtitle|                                             title|                                            videos|\n",
      "+------+--------------+---------------+--------------------------------------------------+--------------------------------------------------+--------------------------------------------------+--------------------------------------------------+--------------------------------------------------+-------------------+-----------+-----+-------------+---------+--------+--------------------------------------------------+--------------------------------------------------+\n",
      "|  NULL|           4.2|           NULL|[Musical Instruments, Drums & Percussion, Drum ...|[Introducing the best selling drum set of all t...|{Item Weight -> 33 pounds, Product Dimensions -...|[Item may ship in more than one box and may arr...|[{https://m.media-amazon.com/images/I/91RuLqvx9...|Musical Instruments| B01M4HO6RK| NULL|           22|    Pearl|    NULL|Pearl Export Lacquer EXL725S/C249 5-Piece New F...|[{Best Selling Drum Set of All Time, https://ww...|\n",
      "|  NULL|           4.0|           NULL|[Musical Instruments, Live Sound & Stage, Power...|[BEHRINGER EUROPOWER EPQ900, Professional 900-W...|{Item Weight -> 10.8 pounds, Product Dimensions...|[2 x 390 Watts into 4 Ohms; 2 x 245 Watts into ...|[{NULL, https://m.media-amazon.com/images/I/31g...|Musical Instruments| B00508JFE4| NULL|           13|Behringer|    NULL|Behringer EUROPOWER EPQ900 Professional 900 Wat...|                                                []|\n",
      "|  NULL|           3.6|           NULL|                    [Musical Instruments, Guitars]|[C64SCE CLASSICAL GUITAR The cutaway allows acc...|{Item Weight -> 5.98 pounds, Product Dimensions...|[The Washburn is truly a professional instrumen...|[{https://m.media-amazon.com/images/I/71ARKER5w...|Musical Instruments| B000S5JGMU|399.0|           15| Washburn|    NULL|Washburn Classical Series Acoustic Electric Cut...|                                                []|\n",
      "|  NULL|           3.5|           NULL|[Musical Instruments, Live Sound & Stage, PA Sy...|[VocoPro UHF-18 DIAMOND - N Wireless Microphone...|{Item Weight -> 2.29 pounds, Product Dimensions...|[Includes one microphone and one receiver, Can ...|[{https://m.media-amazon.com/images/I/61VxCdHkP...|Musical Instruments| B00B2HLWZW|112.0|            7|  VocoPro|    NULL|VocoPro, plug in, Black, 21.00 x 21.00 x 23.00 ...|                                                []|\n",
      "|  NULL|           4.9|           NULL|[Musical Instruments, Microphones & Accessories...|[The SM7B dynamic microphone has a smooth, flat...|{Item Weight -> 2.7 pounds, Product Dimensions ...|[ONE MICROPHONE FOR EVERYTHING - Studio Recordi...|[{https://m.media-amazon.com/images/I/71LYHO3+w...|Musical Instruments| B0B89ZSYS7|399.0|         9512|    Shure|    NULL|Shure SM7B Vocal Dynamic Microphone for Broadca...|[{Shure SM7B Mic Demonstration, https://www.ama...|\n",
      "+------+--------------+---------------+--------------------------------------------------+--------------------------------------------------+--------------------------------------------------+--------------------------------------------------+--------------------------------------------------+-------------------+-----------+-----+-------------+---------+--------+--------------------------------------------------+--------------------------------------------------+\n",
      "only showing top 5 rows\n"
     ]
    }
   ],
   "source": [
    "metadata_df.show(5, truncate=50)"
   ]
  },
  {
   "cell_type": "markdown",
   "id": "19ad05db",
   "metadata": {},
   "source": [
    "---\n",
    "\n",
    "# PART B: REVIEWS\n",
    "\n",
    "## Load Reviews\n"
   ]
  },
  {
   "cell_type": "code",
   "execution_count": 6,
   "id": "69f79628",
   "metadata": {},
   "outputs": [
    {
     "name": "stdout",
     "output_type": "stream",
     "text": [
      "📂 Metadata: /home/max/projects/nulp/amazon-reviews-analysis/data/raw/review_categories/Musical_Instruments.jsonl\n",
      "Total records: 3,017,439\n"
     ]
    }
   ],
   "source": [
    "from amazon_reviews_analysis.utils import load_metadata\n",
    "\n",
    "print(f\"📂 Metadata: {REVIEWS_PATH}\")\n",
    "\n",
    "reviews_df = load_metadata(spark, REVIEWS_PATH)\n",
    "print(f\"Total records: {reviews_df.count():,}\")"
   ]
  },
  {
   "cell_type": "markdown",
   "id": "650b5031",
   "metadata": {},
   "source": [
    "## Schema & Structure\n"
   ]
  },
  {
   "cell_type": "code",
   "execution_count": 7,
   "id": "4bbf004f",
   "metadata": {},
   "outputs": [
    {
     "name": "stdout",
     "output_type": "stream",
     "text": [
      "SCHEMA\n",
      "================================================================================\n",
      "root\n",
      " |-- author: struct (nullable = true)\n",
      " |    |-- about: array (nullable = true)\n",
      " |    |    |-- element: string (containsNull = true)\n",
      " |    |-- avatar: string (nullable = true)\n",
      " |    |-- name: string (nullable = true)\n",
      " |-- average_rating: double (nullable = true)\n",
      " |-- bought_together: string (nullable = true)\n",
      " |-- categories: array (nullable = true)\n",
      " |    |-- element: string (containsNull = true)\n",
      " |-- description: array (nullable = true)\n",
      " |    |-- element: string (containsNull = true)\n",
      " |-- details: map (nullable = true)\n",
      " |    |-- key: string\n",
      " |    |-- value: string (valueContainsNull = true)\n",
      " |-- features: array (nullable = true)\n",
      " |    |-- element: string (containsNull = true)\n",
      " |-- images: array (nullable = true)\n",
      " |    |-- element: struct (containsNull = true)\n",
      " |    |    |-- hi_res: string (nullable = true)\n",
      " |    |    |-- large: string (nullable = true)\n",
      " |    |    |-- thumb: string (nullable = true)\n",
      " |    |    |-- variant: string (nullable = true)\n",
      " |-- main_category: string (nullable = true)\n",
      " |-- parent_asin: string (nullable = true)\n",
      " |-- price: string (nullable = true)\n",
      " |-- rating_number: long (nullable = true)\n",
      " |-- store: string (nullable = true)\n",
      " |-- subtitle: string (nullable = true)\n",
      " |-- title: string (nullable = true)\n",
      " |-- videos: array (nullable = true)\n",
      " |    |-- element: struct (containsNull = true)\n",
      " |    |    |-- title: string (nullable = true)\n",
      " |    |    |-- url: string (nullable = true)\n",
      " |    |    |-- user_id: string (nullable = true)\n",
      "\n",
      "\n",
      "Columns: 16\n",
      " 1. author\n",
      " 2. average_rating\n",
      " 3. bought_together\n",
      " 4. categories\n",
      " 5. description\n",
      " 6. details\n",
      " 7. features\n",
      " 8. images\n",
      " 9. main_category\n",
      "10. parent_asin\n",
      "11. price\n",
      "12. rating_number\n",
      "13. store\n",
      "14. subtitle\n",
      "15. title\n",
      "16. videos\n"
     ]
    }
   ],
   "source": [
    "print(\"SCHEMA\")\n",
    "print(\"=\" * 80)\n",
    "reviews_df.printSchema()\n",
    "\n",
    "print(f\"\\nColumns: {len(reviews_df.columns)}\")\n",
    "for idx, col_name in enumerate(reviews_df.columns, 1):\n",
    "    print(f\"{idx:2d}. {col_name}\")"
   ]
  },
  {
   "cell_type": "markdown",
   "id": "bd0db386",
   "metadata": {},
   "source": [
    "## Sample Data\n"
   ]
  },
  {
   "cell_type": "code",
   "execution_count": 8,
   "id": "17908721",
   "metadata": {},
   "outputs": [
    {
     "name": "stdout",
     "output_type": "stream",
     "text": [
      "+------+--------------+---------------+----------+-----------+-------+--------+------+-------------+-----------+-----+-------------+-----+--------+------------------------------------------------+------+\n",
      "|author|average_rating|bought_together|categories|description|details|features|images|main_category|parent_asin|price|rating_number|store|subtitle|                                           title|videos|\n",
      "+------+--------------+---------------+----------+-----------+-------+--------+------+-------------+-----------+-----+-------------+-----+--------+------------------------------------------------+------+\n",
      "|  NULL|          NULL|           NULL|      NULL|       NULL|   NULL|    NULL|    []|         NULL| B003LPTAYI| NULL|         NULL| NULL|    NULL|                                      Five Stars|  NULL|\n",
      "|  NULL|          NULL|           NULL|      NULL|       NULL|   NULL|    NULL|    []|         NULL| B06XP6TDVY| NULL|         NULL| NULL|    NULL|nice sound.  pedal failed after less than 1 year|  NULL|\n",
      "|  NULL|          NULL|           NULL|      NULL|       NULL|   NULL|    NULL|    []|         NULL| B0040FJ27S| NULL|         NULL| NULL|    NULL|                                            okay|  NULL|\n",
      "|  NULL|          NULL|           NULL|      NULL|       NULL|   NULL|    NULL|    []|         NULL| B00WJ3HL5I| NULL|         NULL| NULL|    NULL|                                 Easy to return.|  NULL|\n",
      "|  NULL|          NULL|           NULL|      NULL|       NULL|   NULL|    NULL|    []|         NULL| B07T9NM5QR| NULL|         NULL| NULL|    NULL|                Good product despite tight bolt.|  NULL|\n",
      "+------+--------------+---------------+----------+-----------+-------+--------+------+-------------+-----------+-----+-------------+-----+--------+------------------------------------------------+------+\n",
      "only showing top 5 rows\n"
     ]
    }
   ],
   "source": [
    "reviews_df.show(5, truncate=50)"
   ]
  },
  {
   "cell_type": "code",
   "execution_count": null,
   "id": "e09514e0",
   "metadata": {},
   "outputs": [],
   "source": []
  }
 ],
 "metadata": {
  "kernelspec": {
   "display_name": ".venv (3.11.13)",
   "language": "python",
   "name": "python3"
  },
  "language_info": {
   "codemirror_mode": {
    "name": "ipython",
    "version": 3
   },
   "file_extension": ".py",
   "mimetype": "text/x-python",
   "name": "python",
   "nbconvert_exporter": "python",
   "pygments_lexer": "ipython3",
   "version": "3.11.13"
  }
 },
 "nbformat": 4,
 "nbformat_minor": 5
}
